{
  "cells": [
    {
      "cell_type": "markdown",
      "metadata": {
        "id": "ZPEtQeZqeQaj"
      },
      "source": [
        "TODO\n",
        "1. _\n",
        "2. degug pixelate (fix padding)\n",
        "3. optimize pixelate"
      ]
    },
    {
      "cell_type": "code",
      "execution_count": 539,
      "metadata": {
        "id": "RzPSUb2gz4Ap"
      },
      "outputs": [],
      "source": [
        "#%pip install opencv-python\n",
        "\n",
        "import cv2\n",
        "import numpy as np\n",
        "import matplotlib.pyplot  as plt\n",
        "from mpl_toolkits.mplot3d import Axes3D"
      ]
    },
    {
      "cell_type": "code",
      "execution_count": 540,
      "metadata": {
        "id": "RjZxGawz1MlK"
      },
      "outputs": [],
      "source": [
        "# returns the Euclidean distance between two rgb colors\n",
        "def color_distance(color0, color1):\n",
        "    # Convert to int16 or float32 to prevent overflow\n",
        "    r0, g0, b0 = color0\n",
        "    r1, g1, b1 = color1\n",
        "    \n",
        "    # Compute squared differences\n",
        "    r_delta_sqrd = (r1 - r0) ** 2\n",
        "    g_delta_sqrd = (g1 - g0) ** 2\n",
        "    b_delta_sqrd = (b1 - b0) ** 2\n",
        "\n",
        "    # Compute Euclidean distance\n",
        "    distance = np.sqrt(r_delta_sqrd + g_delta_sqrd + b_delta_sqrd)\n",
        "    return distance"
      ]
    },
    {
      "cell_type": "code",
      "execution_count": 541,
      "metadata": {},
      "outputs": [],
      "source": [
        "def pad_image(image):    \n",
        "    padded_image = np.pad(image, pad_width=((1, 1), (1, 1), (0, 0)), mode='constant', constant_values=-1)\n",
        "    \n",
        "    return padded_image\n",
        "\n",
        "def replace_pads_with_black(padded_image):\n",
        "    # Create a copy for visualization\n",
        "    black_image = np.copy(padded_image)\n",
        "    \n",
        "    # Create a mask for padding pixels (-1)\n",
        "    mask = (black_image == -1)\n",
        "    \n",
        "    # Replace padding values with 0 (black)\n",
        "    black_image[mask] = 0\n",
        "    \n",
        "    # Clip values to valid range and convert to uint8 for proper display\n",
        "    black_image = np.clip(black_image, 0, 255).astype(np.uint8)\n",
        "    \n",
        "    return black_image"
      ]
    },
    {
      "cell_type": "code",
      "execution_count": 542,
      "metadata": {},
      "outputs": [],
      "source": [
        "def get_best_candidate(group_candidates, group_mask):\n",
        "    \"\"\"\n",
        "    Selects the best candidate from a list of (distance, (x, y)) tuples.\n",
        "\n",
        "    Cases:\n",
        "    1. If multiple candidates have the same minimum distance, select the first one that is already in a group.\n",
        "    2. If there is a single best candidate, return it.\n",
        "\n",
        "    :param group_candidates: List of tuples (distance, (x, y))\n",
        "    :param group_mask: The mask storing group assignments (-1 if not assigned)\n",
        "    :return: (best_x, best_y) coordinates of the best candidate\n",
        "    \"\"\"\n",
        "\n",
        "    # Sort by distance first\n",
        "    group_candidates.sort(key=lambda p: p[0])\n",
        "    \n",
        "    # Find the first candidate that is already in a group\n",
        "    for i in range(len(group_candidates)):\n",
        "        (x, y) = group_candidates[i][1]\n",
        "        if group_mask[y, x] != -1:  # If the candidate has a group\n",
        "            return group_candidates[i]\n",
        "\n",
        "    # If no candidates are already in a group, return the closest one\n",
        "    return group_candidates[0]  "
      ]
    },
    {
      "cell_type": "code",
      "execution_count": 543,
      "metadata": {
        "id": "ogTphQ4g66Jy"
      },
      "outputs": [],
      "source": [
        "def group_pixels(image, threshold):\n",
        "  # initialize locals\n",
        "  groups = []\n",
        "  rows, cols = image.shape[:2]\n",
        "\n",
        "  # used to store a map of the groups\n",
        "  group_mask = np.full((rows, cols), -1, dtype=np.float32)\n",
        "  # show_image(group_mask, \"original group mask\")\n",
        "  show_image(image, \"original image\")\n",
        "\n",
        "  # BUG: padding and kernel issues\n",
        "  padded_image = pad_image(image)\n",
        "  # converted = replace_pads_with_black(padded_image)\n",
        "  # show_image(converted, \"padded image\")\n",
        "\n",
        "  # Apply kernel\n",
        "  for i in range(rows):\n",
        "    for j in range(cols):\n",
        "      region = padded_image[i:i+3, j:j+3]\n",
        "      # display_kernel_region(region)\n",
        "      group_candidates = []\n",
        "\n",
        "      # target is the center pixel in the kernel\n",
        "      target = region[1, 1]\n",
        "\n",
        "      # traverse the kernel region and compare neighbours to target\n",
        "      for y in range(0, 3):\n",
        "        for x in range(0, 3):\n",
        "\n",
        "          # only check neighbours (not target itself) and non-padding points\n",
        "          if ((x, y) != (1, 1) and region[y, x][0] != -1):\n",
        "            # if the Euc. distance between target and neighbour < threshold\n",
        "            # add the (distance, neighbour coords) to list of candidates for\n",
        "            # which group to add the target to\n",
        "            #\n",
        "            # NOTE: the neighbour coords will be the current target coords\n",
        "            # shifted by the current pixel location in the kernel\n",
        "            dist = color_distance(target, region[y, x])\n",
        "            if (dist < threshold):\n",
        "              # Adjust the kernel offsets correctly relative to the original image\n",
        "              X = j + (x - 1)  # x - 1 because kernel is 3x3, and (1,1) is the center\n",
        "              Y = i + (y - 1)  # y - 1 for same reason\n",
        "\n",
        "              group_candidates.append((dist, (X, Y)))\n",
        "\n",
        "      # no candidates found -> assign to new group\n",
        "      if (len(group_candidates) == 0):\n",
        "        groups.append(int(len(groups)))\n",
        "        group_mask[i, j] = groups[-1]\n",
        "\n",
        "      # candidates found -> assign to best (min dist value) neighbour\n",
        "      # NOTE: if all have the same distance, we should assign to the first\n",
        "      #       neighbour with a group, otherwise make new one\n",
        "      else:\n",
        "        best_candidate = get_best_candidate(group_candidates, group_mask)\n",
        "\n",
        "        bestX, bestY = best_candidate[1]\n",
        "\n",
        "        # best candidate not in group -> create new group and add target / best to group\n",
        "        if (group_mask[bestY, bestX] == -1):\n",
        "          groups.append(int(len(groups)))\n",
        "\n",
        "          #test\n",
        "          group_mask[i, j] = group_mask[bestY, bestX] = groups[-1]\n",
        "\n",
        "        # best candidate in group -> add target to best's group\n",
        "        else:\n",
        "          group_mask[i, j] = group_mask[bestY, bestX]\n",
        "\n",
        "  #show_image_3d(group_mask, \"final group mask\")\n",
        "  return group_mask, groups"
      ]
    },
    {
      "cell_type": "code",
      "execution_count": 544,
      "metadata": {
        "id": "4O9w0lDRVA5a"
      },
      "outputs": [],
      "source": [
        "def average_groups(groups, group_mask, image):\n",
        "  for group in groups:\n",
        "    group_region = image[group_mask == group]\n",
        "    group_avg = np.mean(group_region, axis=0)\n",
        "    image[group_mask == group] = group_avg\n",
        "\n",
        "  return image"
      ]
    },
    {
      "cell_type": "code",
      "execution_count": 545,
      "metadata": {
        "id": "UpqBCgZx0cyg"
      },
      "outputs": [],
      "source": [
        "def color_segment(image, threshold=0):\n",
        "    # group all pixels with color distance < threshold as one\n",
        "    group_mask, groups = group_pixels(image, threshold)\n",
        "\n",
        "    # for each group, assign color as group average\n",
        "    avged_img = average_groups(groups, group_mask, image)\n",
        "\n",
        "    # Ensure the result is of type uint8\n",
        "    avged_img = np.clip(avged_img, 0, 255).astype(np.uint8)\n",
        "\n",
        "    # return image\n",
        "    return avged_img"
      ]
    },
    {
      "cell_type": "markdown",
      "metadata": {
        "id": "_fighxzjIzYo"
      },
      "source": [
        "### Test"
      ]
    },
    {
      "cell_type": "code",
      "execution_count": 546,
      "metadata": {},
      "outputs": [],
      "source": [
        "def show_image(mat, title):\n",
        "    # Display the image using matplotlib\n",
        "    plt.figure(figsize=(8, 6))\n",
        "    plt.imshow(mat)\n",
        "    plt.axis(\"off\")  # Hide axes\n",
        "    plt.title(title)\n",
        "    plt.show()\n",
        "\n",
        "\n",
        "def show_image_3d(matrix, title):\n",
        "    # Create a meshgrid for the x and y coordinates\n",
        "    x = np.arange(matrix.shape[1])  # Columns\n",
        "    y = np.arange(matrix.shape[0])  # Rows\n",
        "    x, y = np.meshgrid(x, y)\n",
        "\n",
        "    # Create the figure and 3D axis\n",
        "    fig = plt.figure()\n",
        "    ax = fig.add_subplot(111, projection='3d')\n",
        "\n",
        "    # Plot the 3D surface\n",
        "    ax.plot_surface(x, y, matrix, cmap='viridis')\n",
        "\n",
        "    # Set the title\n",
        "    ax.set_title(title)\n",
        "\n",
        "    # Display the plot\n",
        "    plt.show()"
      ]
    },
    {
      "cell_type": "code",
      "execution_count": 547,
      "metadata": {
        "id": "gOjQwGfLI0o4"
      },
      "outputs": [
        {
          "data": {
            "image/png": "[encoded data removed]",
            "text/plain": [
              "<Figure size 800x600 with 1 Axes>"
            ]
          },
          "metadata": {},
          "output_type": "display_data"
        },
        {
          "data": {
            "image/png": "[encoded data removed]",
            "text/plain": [
              "<Figure size 800x600 with 1 Axes>"
            ]
          },
          "metadata": {},
          "output_type": "display_data"
        }
      ],
      "source": [
        "image = cv2.imread(\"Test Images\\\\mixed_color_blocks.jpg\", cv2.IMREAD_COLOR_RGB).astype(np.int64)\n",
        "\n",
        "# note for threshold, think about the max you can span diagonally within a color cube,\n",
        "# there essentially is a limit on the euclidean distance between rgb pixels because\n",
        "# you can only be so far away from another color.\n",
        "final_image = color_segment(image, threshold=1)\n",
        "\n",
        "show_image(final_image, 'final image')"
      ]
    }
  ],
  "metadata": {
    "colab": {
      "collapsed_sections": [
        "1hZHkEQF0T14",
        "AsvGF00R1HNS"
      ],
      "provenance": []
    },
    "kernelspec": {
      "display_name": "Python 3",
      "name": "python3"
    },
    "language_info": {
      "codemirror_mode": {
        "name": "ipython",
        "version": 3
      },
      "file_extension": ".py",
      "mimetype": "text/x-python",
      "name": "python",
      "nbconvert_exporter": "python",
      "pygments_lexer": "ipython3",
      "version": "3.13.2"
    }
  },
  "nbformat": 4,
  "nbformat_minor": 0
}
